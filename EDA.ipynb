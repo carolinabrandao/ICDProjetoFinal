{
 "cells": [
  {
   "attachments": {},
   "cell_type": "markdown",
   "metadata": {},
   "source": [
    "# Análise exploratória inicial dos dados de Expectativa de Vida\n",
    "\n",
    "Equipe: Avelar Hostalácio, Carolina Brandão, Daniel Andrade, Enzo Pierazolli, Iago Gabino\n",
    "\n",
    "Dataset utilizado para análises: [Life Expectancy WHO](https://www.kaggle.com/datasets/lashagoch/life-expectancy-who-updated)"
   ]
  },
  {
   "attachments": {},
   "cell_type": "markdown",
   "metadata": {},
   "source": [
    "## Leitura inicial do dataset e correção de colunas"
   ]
  },
  {
   "attachments": {},
   "cell_type": "markdown",
   "metadata": {},
   "source": [
    "Substituindo a coluna Economy_status_Developed para 'developed' booleana:"
   ]
  },
  {
   "cell_type": "code",
   "execution_count": null,
   "metadata": {},
   "outputs": [],
   "source": [
    "import pandas as pd\n",
    "import numpy as np\n",
    "import seaborn as sns\n",
    "import matplotlib.pyplot as plt\n",
    "from scipy import stats as ss\n",
    "\n",
    "dataset = pd.read_csv('Life-Expectancy-Data.csv')\n",
    "\n",
    "dataset.head()"
   ]
  },
  {
   "attachments": {},
   "cell_type": "markdown",
   "metadata": {},
   "source": [
    "Contando linhas e colunas:"
   ]
  },
  {
   "cell_type": "code",
   "execution_count": null,
   "metadata": {},
   "outputs": [],
   "source": [
    "dataset.info()"
   ]
  },
  {
   "attachments": {},
   "cell_type": "markdown",
   "metadata": {},
   "source": [
    "## Reorganizando os dados do banco de dados"
   ]
  },
  {
   "attachments": {},
   "cell_type": "markdown",
   "metadata": {},
   "source": [
    "Dropamos algumas colunas que consideramos irrelevantes pro projeto e renomeamos outras, para facilitar a visualização/manipulação posterior dos dados."
   ]
  },
  {
   "cell_type": "code",
   "execution_count": null,
   "metadata": {},
   "outputs": [],
   "source": [
    "dataset.drop(['Thinness_ten_nineteen_years', 'Thinness_five_nine_years', 'Economy_status_Developing'], axis=1, inplace=True)"
   ]
  },
  {
   "cell_type": "code",
   "execution_count": null,
   "metadata": {},
   "outputs": [],
   "source": [
    "##trocas developing e developed por true e false\n",
    "dataset.rename(columns={'Economy_status_Developed':'developed'}, inplace=True)\n",
    "dataset[\"developed\"] = dataset[\"developed\"].astype(bool)\n",
    "dataset['developed'].unique()"
   ]
  },
  {
   "cell_type": "code",
   "execution_count": null,
   "metadata": {},
   "outputs": [],
   "source": [
    "# renomear colunas com nomes com letra minuscula e no formato nome_da_coluna\n",
    "dataset.rename(columns={'Country':'country', 'Region':'region', 'Year':'year', 'Infant_deaths':'infant_deaths', 'Under_five_deaths':'under_five_deaths', 'Adult_mortality':'adult_mortality', 'Alcohol_consumption':'alcohol_consumption', 'Hepatitis_B':'hepatitis_b', 'Measles':'measles', 'BMI':'bmi', 'Polio':'polio', 'Diphtheria':'diphtheria', 'Incidents_HIV':'incidents_hiv', 'GDP_per_capita':'gdp_per_capita', 'Population_mln':'population_mln', 'Schooling':'schooling', 'Life_expectancy':'life_expectancy'}, inplace=True)"
   ]
  },
  {
   "cell_type": "code",
   "execution_count": null,
   "metadata": {},
   "outputs": [],
   "source": [
    "dataset.info()"
   ]
  },
  {
   "attachments": {},
   "cell_type": "markdown",
   "metadata": {},
   "source": [
    "## Plots para análise inicial de dados"
   ]
  },
  {
   "cell_type": "code",
   "execution_count": null,
   "metadata": {},
   "outputs": [],
   "source": [
    "sns.lineplot(x = \"year\", y = \"life_expectancy\", hue = \"developed\", data = dataset)"
   ]
  },
  {
   "cell_type": "code",
   "execution_count": null,
   "metadata": {},
   "outputs": [],
   "source": [
    "sns.lineplot(x = \"year\", y = \"life_expectancy\", hue = \"developed\", data = dataset)"
   ]
  },
  {
   "cell_type": "code",
   "execution_count": null,
   "metadata": {},
   "outputs": [],
   "source": [
    "sns.lineplot(x = \"year\", y = \"life_expectancy\", data = dataset)"
   ]
  },
  {
   "cell_type": "code",
   "execution_count": null,
   "metadata": {},
   "outputs": [],
   "source": [
    "f, ax = plt.subplots(figsize=(15, 8))\n",
    "sns.scatterplot(x=\"gdp_per_capita\", y=\"life_expectancy\",hue=\"region\", data= dataset)"
   ]
  },
  {
   "cell_type": "code",
   "execution_count": null,
   "metadata": {},
   "outputs": [],
   "source": [
    "#plot an histogram\n",
    "sns.histplot(x='life_expectancy', hue='developed', data=dataset)"
   ]
  },
  {
   "cell_type": "code",
   "execution_count": null,
   "metadata": {},
   "outputs": [],
   "source": [
    "sns.pairplot(dataset, hue='developed', y_vars='life_expectancy', x_vars=['adult_mortality', 'infant_deaths', 'hepatitis_b', 'measles', 'bmi', 'under_five_deaths', 'polio', 'schooling', 'alcohol_consumption'])\n"
   ]
  },
  {
   "cell_type": "code",
   "execution_count": null,
   "metadata": {},
   "outputs": [],
   "source": [
    "plt.figure(figsize=(10,10))\n",
    "\n",
    "corr = dataset.corr(numeric_only=True)\n",
    "mask = np.triu(np.ones_like(corr, dtype=bool))\n",
    "\n",
    "sns.heatmap(dataset.corr(numeric_only=True), \n",
    "            mask=mask,\n",
    "            center=0,\n",
    "            annot=True,\n",
    "            fmt='.2f',\n",
    "            square=True,\n",
    "            linewidths=.2,\n",
    "            cbar_kws={\"shrink\": .6})\n",
    "\n",
    "plt.title('Features Correlation Matrix Heatmap', fontsize=25);"
   ]
  },
  {
   "attachments": {},
   "cell_type": "markdown",
   "metadata": {},
   "source": [
    "## Consumo de Álcool e a Expectativa de Vida: Europa e África"
   ]
  },
  {
   "attachments": {},
   "cell_type": "markdown",
   "metadata": {},
   "source": [
    "A partir da EDA, observamos uma moderada correlação entre consumo de álcool e a expectativa de vida. Pensamos que uma maneira interessante de analisar essa correlação seria analisando as duas variáveis na União Europeia e na África, já que são continentes com realidades econômicas e sociais diferentes."
   ]
  },
  {
   "cell_type": "code",
   "execution_count": null,
   "metadata": {},
   "outputs": [],
   "source": [
    "europe_or_africa = dataset[(dataset['region'] == 'European Union') | (dataset['region'] == 'Africa')]\n",
    "\n",
    "sns.scatterplot(x='alcohol_consumption', y='life_expectancy', data=europe_or_africa)\n"
   ]
  },
  {
   "attachments": {},
   "cell_type": "markdown",
   "metadata": {},
   "source": [
    "Calculando a correlação entre as duas variáveis nesses continentes:"
   ]
  },
  {
   "cell_type": "code",
   "execution_count": null,
   "metadata": {},
   "outputs": [],
   "source": [
    "from scipy import stats\n",
    "\n",
    "# calcula a correlação entre as variáveis\n",
    "pearson_coef, p_value = stats.pearsonr(europe_or_africa['alcohol_consumption'], europe_or_africa['life_expectancy'])\n",
    "print(\"Correlação de Pearson: \", pearson_coef, \"\\nP-valor: \", p_value)"
   ]
  },
  {
   "attachments": {},
   "cell_type": "markdown",
   "metadata": {},
   "source": [
    "Dado que a Correlação de Pearson entre as duas variáveis é aproximadamente 0.6, podemos dizer que há uma correlação positiva considerável. Além disso, um p-valor próximo de 0 indica que a correlação é estatisticamente significativa."
   ]
  },
  {
   "attachments": {},
   "cell_type": "markdown",
   "metadata": {},
   "source": [
    "Porém esse resultado não parece condizer com a realidade, dado que o aumento do consumo de álcool não parece ser um fator que aumenta a expectativa de vida. Para entender melhor essa correlação, vamos analisar os dados de cada continente separadamente."
   ]
  },
  {
   "cell_type": "code",
   "execution_count": null,
   "metadata": {},
   "outputs": [],
   "source": [
    "sns.scatterplot(x='alcohol_consumption', y='life_expectancy', data=europe_or_africa, hue='region')"
   ]
  },
  {
   "attachments": {},
   "cell_type": "markdown",
   "metadata": {},
   "source": [
    "Calculando a correlação entre as duas variáveis na União Europeia e na África:"
   ]
  },
  {
   "cell_type": "code",
   "execution_count": null,
   "metadata": {},
   "outputs": [],
   "source": [
    "eu = europe_or_africa[europe_or_africa['region'] == 'European Union']\n",
    "af = europe_or_africa[europe_or_africa['region'] == 'Africa']\n",
    "\n",
    "pearson_coef, p_value = stats.pearsonr(eu['alcohol_consumption'], eu['life_expectancy'])\n",
    "print(\"Correlação de Pearson para Europa: \", pearson_coef, \" | P-valor: \", p_value)\n",
    "\n",
    "pearson_coef, p_value = stats.pearsonr(af['alcohol_consumption'], af['life_expectancy'])\n",
    "print(\"Correlação de Pearson para Africa: \", pearson_coef, \" | P-valor: \", p_value)"
   ]
  },
  {
   "attachments": {},
   "cell_type": "markdown",
   "metadata": {},
   "source": [
    "As correlações entre as variáveis nos continentes são negativas, e também são mais fracas, indicando que o consumo de álcool não é um fator muito relevante para a expectativa de vida nesses continentes, contrariando a análise conjunta dos continentes. Dessa forma, podemos dizer que a região é um _fator de confusão_ para a correlação entre as variáveis."
   ]
  },
  {
   "attachments": {},
   "cell_type": "markdown",
   "metadata": {},
   "source": [
    "# Teste de Hipótese: Diferença entre o crescimento da expectativa de vida de países desenvolvidos e não desenvolvidos"
   ]
  },
  {
   "attachments": {},
   "cell_type": "markdown",
   "metadata": {},
   "source": [
    "H0: o país ser desenvolvido ou não não afeta a média da diferença entre a expectativa de vida de 2015 e 2000\n",
    "\n",
    "H1: países não desenvolvidos tiveram um aumento médio maior na expectativa de vida entre 2000 e 2015 em comparação com países desenvolvidos"
   ]
  },
  {
   "cell_type": "code",
   "execution_count": null,
   "metadata": {},
   "outputs": [],
   "source": [
    "# conta paises desenvolvidos\n",
    "developed_countries = dataset[dataset['developed'] == True]\n",
    "developed_countries['country'].nunique()"
   ]
  },
  {
   "cell_type": "code",
   "execution_count": null,
   "metadata": {},
   "outputs": [],
   "source": [
    "# diferença entre a expectativa de vida de 2015 e 2000\n",
    "# novo dataset com os países e as diferenças\n",
    "life_expectancy_difference = pd.DataFrame(columns=['country', 'difference', 'region', 'developed'])\n",
    "life_expectancy_difference['country'] = dataset['country'].unique()\n",
    "\n",
    "# calcula a diferença para cada país\n",
    "for country in life_expectancy_difference['country']:\n",
    "    difference = dataset[(dataset['country'] == country) & (dataset['year'] == 2015)]['life_expectancy'].values[0] - dataset[(dataset['country'] == country) & (dataset['year'] == 2000)]['life_expectancy'].values[0]\n",
    "    life_expectancy_difference.loc[life_expectancy_difference['country'] == country, 'difference'] = difference\n",
    "    life_expectancy_difference.loc[life_expectancy_difference['country'] == country, 'region'] = dataset[dataset['country'] == country]['region'].values[0]\n",
    "    life_expectancy_difference.loc[life_expectancy_difference['country'] == country, 'developed'] = dataset[dataset['country'] == country]['developed'].values[0]\n",
    "\n",
    "life_expectancy_difference"
   ]
  },
  {
   "cell_type": "code",
   "execution_count": null,
   "metadata": {},
   "outputs": [],
   "source": [
    "developed = life_expectancy_difference[life_expectancy_difference['developed'] == True]\n",
    "not_developed = life_expectancy_difference[life_expectancy_difference['developed'] == False]\n",
    "\n",
    "\n",
    "plt.hist(not_developed['difference'], bins=20, alpha=0.3, label='Não desenvolvidos', edgecolor='k')\n",
    "plt.hist(developed['difference'], alpha=0.3, label='Desenvolvidos', edgecolor='k')\n",
    "plt.xlabel('Diferença entre a expectativa de vida de 2015 e 2000')\n",
    "plt.ylabel('Quantidade de países')\n",
    "plt.legend()\n",
    "plt.show()"
   ]
  },
  {
   "cell_type": "code",
   "execution_count": null,
   "metadata": {},
   "outputs": [],
   "source": [
    "# diferença de médias entre os países desenvolvidos e não desenvolvidos\n",
    "developed = life_expectancy_difference[life_expectancy_difference['developed'] == True]\n",
    "not_developed = life_expectancy_difference[life_expectancy_difference['developed'] == False]\n",
    "\n",
    "developed_mean = developed['difference'].mean()\n",
    "not_developed_mean = not_developed['difference'].mean()\n",
    "\n",
    "print('Média de diferença entre a expectativa de vida de 2015 e 2000 para países desenvolvidos: ', developed_mean)\n",
    "print('Média de diferença entre a expectativa de vida de 2015 e 2000 para países não desenvolvidos: ', not_developed_mean)\n",
    "\n",
    "t_obs = not_developed_mean - developed_mean\n",
    "\n",
    "print('Diferença entre as médias: ', t_obs)"
   ]
  },
  {
   "attachments": {},
   "cell_type": "markdown",
   "metadata": {},
   "source": [
    "Testaremos se essa diferença foi devido ao acaso ou se é significativa, por meio do teste de permutação."
   ]
  },
  {
   "cell_type": "code",
   "execution_count": null,
   "metadata": {},
   "outputs": [],
   "source": [
    "df_shuffled = life_expectancy_difference.copy()\n",
    "filtro = df_shuffled['developed'] == False\n",
    "np.random.shuffle(filtro.values)\n",
    "diff = df_shuffled[filtro]['difference'].mean() - df_shuffled[~filtro]['difference'].mean()\n",
    "diff"
   ]
  },
  {
   "attachments": {},
   "cell_type": "markdown",
   "metadata": {},
   "source": [
    "Repetir o teste 10000 vezes:"
   ]
  },
  {
   "cell_type": "code",
   "execution_count": null,
   "metadata": {},
   "outputs": [],
   "source": [
    "N = 10000\n",
    "diferencas = np.zeros(N)\n",
    "for i in range(N):\n",
    "    np.random.shuffle(filtro.values)\n",
    "    diff = df_shuffled[~filtro]['difference'].mean() - df_shuffled[filtro]['difference'].mean()\n",
    "    diferencas[i] = diff"
   ]
  },
  {
   "cell_type": "code",
   "execution_count": null,
   "metadata": {},
   "outputs": [],
   "source": [
    "plt.hist(diferencas, bins=50, edgecolor='k')\n",
    "plt.xlabel('Diferença na Permutação')\n",
    "plt.ylabel('Pr(diff)')\n",
    "plt.vlines(t_obs, 0, 0.14, color='red')\n",
    "plt.axvline(t_obs, color='red')\n",
    "plt.show()"
   ]
  },
  {
   "attachments": {},
   "cell_type": "markdown",
   "metadata": {},
   "source": [
    "Cálculo do p-valor:"
   ]
  },
  {
   "cell_type": "code",
   "execution_count": null,
   "metadata": {},
   "outputs": [],
   "source": [
    "p_value = np.count_nonzero(diferencas > t_obs) / N\n",
    "p_value"
   ]
  },
  {
   "attachments": {},
   "cell_type": "markdown",
   "metadata": {},
   "source": [
    "#### CONCLUSÃO\n",
    "Dado que o p-valor é menor que 0.05, podemos rejeitar a hipótese nula e concluir que a diferença entre a expectativa de vida de 2015 e 2000 foi significativamente maior em países não desenvolvidos."
   ]
  },
  {
   "attachments": {},
   "cell_type": "markdown",
   "metadata": {},
   "source": [
    "## Teste de hipótese: Correlação entre Expectativa de vida e Educação\n"
   ]
  },
  {
   "attachments": {},
   "cell_type": "markdown",
   "metadata": {},
   "source": [
    "Será que a correlação, previamente calculada na matriz de correlações, de p=0.73 é dada pelo acaso? Ou uma taxa de educação maior realmente impacta positivamente na expectativa de vida da população?"
   ]
  },
  {
   "cell_type": "code",
   "execution_count": null,
   "metadata": {},
   "outputs": [],
   "source": [
    "#correlação entre expectativa de vida e educação\n",
    "corr = dataset['schooling'].corr(dataset['life_expectancy'])\n",
    "print(\"Correlação de Pearson: \", corr)"
   ]
  },
  {
   "cell_type": "code",
   "execution_count": null,
   "metadata": {},
   "outputs": [],
   "source": [
    "#calcular o p-value da correlação por permutação\n",
    "N = 10000\n",
    "dataset_shuffled = dataset.copy()\n",
    "correlacoes = np.zeros(N)\n",
    "for i in range(N):\n",
    "    np.random.shuffle(dataset_shuffled['schooling'].values)\n",
    "    correlacoes[i] = dataset_shuffled['schooling'].corr(dataset_shuffled['life_expectancy'])\n",
    "\n",
    "plt.hist(correlacoes, bins=50, edgecolor='k')\n",
    "plt.xlabel('Correlação na Permutação')\n",
    "plt.ylabel('Densidade')\n",
    "plt.axvline(corr, color='red')\n",
    "plt.show()"
   ]
  },
  {
   "attachments": {},
   "cell_type": "markdown",
   "metadata": {},
   "source": [
    "É bastante claro, após a realização deste teste de permutação que a correlação entre escolaridade e expectativa de vida é realmente existente e tem p-value igual a zero. "
   ]
  },
  {
   "cell_type": "code",
   "execution_count": null,
   "metadata": {},
   "outputs": [],
   "source": [
    "#p-value\n",
    "p_value = np.count_nonzero(correlacoes > corr) / N\n",
    "p_value"
   ]
  },
  {
   "attachments": {},
   "cell_type": "markdown",
   "metadata": {},
   "source": [
    "## Análise experimental: Guerras"
   ]
  },
  {
   "attachments": {},
   "cell_type": "markdown",
   "metadata": {},
   "source": [
    "Primeiramente, procuramos países onde a expectativa de vida de 2015 foi menor que a de 2000."
   ]
  },
  {
   "cell_type": "code",
   "execution_count": null,
   "metadata": {},
   "outputs": [],
   "source": [
    "#países em que a diferença de expectativa de vida é negativa\n",
    "life_expectancy_difference[life_expectancy_difference['difference'] < 0]"
   ]
  },
  {
   "attachments": {},
   "cell_type": "markdown",
   "metadata": {},
   "source": [
    "Iremos focar na Síria, pela maior diferença."
   ]
  },
  {
   "attachments": {},
   "cell_type": "markdown",
   "metadata": {},
   "source": [
    "### SÍRIA"
   ]
  },
  {
   "attachments": {},
   "cell_type": "markdown",
   "metadata": {},
   "source": [
    "Analisando a expectativa de vida ao longo dos anos."
   ]
  },
  {
   "cell_type": "code",
   "execution_count": null,
   "metadata": {},
   "outputs": [],
   "source": [
    "#gráfico de expectativa de vida ao longo dos anos\n",
    "syria = dataset[dataset['country'] == 'Syrian Arab Republic']\n",
    "syria = syria.sort_values(by='year')\n",
    "syria[['year', 'life_expectancy']]\n",
    "plt.figure(figsize=(10, 5))\n",
    "plt.xticks(np.arange(2000, 2016, 1.0))\n",
    "plt.title('Expectativa de vida na Síria ao longo dos anos')\n",
    "plt.plot(syria['year'], syria['life_expectancy'])"
   ]
  },
  {
   "cell_type": "code",
   "execution_count": null,
   "metadata": {},
   "outputs": [],
   "source": [
    "#diferença entre a maior e a menor expectativa de vida da síria e anos em que ocorreram\n",
    "maxYear = syria[syria['life_expectancy'] == syria['life_expectancy'].max()]['year']\n",
    "minYear = syria[syria['life_expectancy'] == syria['life_expectancy'].min()]['year']\n",
    "max = syria['life_expectancy'].max()\n",
    "min = syria['life_expectancy'].min()\n",
    "print('Ano com maior expectativa de vida: ', maxYear.values[0], ' | Expectativa de vida: ', max)\n",
    "print('Ano com menor expectativa de vida: ', minYear.values[0], ' | Expectativa de vida: ', min)\n",
    "print('Diferença: ', max - min)"
   ]
  },
  {
   "attachments": {},
   "cell_type": "markdown",
   "metadata": {},
   "source": [
    "A Síria é palco de uma guerra civil que começou em 2011 e ainda não acabou. A guerra civil na Síria é um conflito entre o governo sírio e forças da oposição, que começou com protestos pacíficos contra o governo sírio, liderado pelo presidente Bashar al-Assad. O conflito se transformou em uma guerra civil, após o uso da força pelo governo para reprimir os protestos. "
   ]
  },
  {
   "attachments": {},
   "cell_type": "markdown",
   "metadata": {},
   "source": [
    "De acordo com o Observatório Sírio para os Direitos Humanos (OSDH), até 2021, a guerra civil causou exatas 494.438 mortes desde 2011. A grande maioria das mortes que a organização conseguiu confirmar aconteceu entre \"o fim de 2012 e o fim de 2015\". A seguir analisaremos as métricas relacionadas à mortalidade nesse período."
   ]
  },
  {
   "cell_type": "code",
   "execution_count": null,
   "metadata": {},
   "outputs": [],
   "source": [
    "#mortalidade infantil ao longo dos anos\n",
    "\n",
    "plt.figure(figsize=(10, 5))\n",
    "plt.xticks(np.arange(2000, 2016, 1.0))\n",
    "plt.title('Mortalidade infantil na Síria ao longo dos anos')\n",
    "plt.plot(syria['year'], syria['infant_deaths'])"
   ]
  },
  {
   "cell_type": "code",
   "execution_count": null,
   "metadata": {},
   "outputs": [],
   "source": [
    "#mortalidade adulta ao longo dos anos\n",
    "plt.figure(figsize=(10, 5))\n",
    "plt.xticks(np.arange(2000, 2016, 1.0))\n",
    "plt.title('Mortalidade adulta na Síria ao longo dos anos')\n",
    "plt.plot(syria['year'], syria['adult_mortality'])"
   ]
  },
  {
   "attachments": {},
   "cell_type": "markdown",
   "metadata": {},
   "source": [
    "É possível observar que de 2011 à 2014 o número de mortes infantis subiu uma dezena a cada 1000 habitantes, e desde 2007 o de adultos dubiumais de 70, o que condiz com a grande mortalidade apontada pela OSDH. A mortalidade adulta crescendo desde 2007 pode indicar que a guerra civil não foi o único fator que contribuiu para a queda da expectativa de vida na Síria. A queda aproximadamente a partir de 2013 pode indicar uma diminuição da intensidade da guerra, mas não é possível afirmar com certeza."
   ]
  },
  {
   "attachments": {},
   "cell_type": "markdown",
   "metadata": {},
   "source": [
    "### IRAQUE"
   ]
  },
  {
   "attachments": {},
   "cell_type": "markdown",
   "metadata": {},
   "source": [
    "A Guerra do Iraque foi um conflito militar que teve início em 2003 e oficialmente terminou em dezembro de 2011. Essa guerra foi iniciada pelos Estados Unidos, liderados pelo presidente George W. Bush, que alegaram a existência de armas de destruição em massa no Iraque como justificativa para a invasão. O conflito resultou em um número significativo de mortes, e embora não haja um consenso definitivo sobre o número exato, estima-se que o conflito tenha causado a morte de centenas de milhares de pessoas, gerando uma grande devastação ao país e desencadeando consequências políticas e sociais que persistem até os dias atuais."
   ]
  },
  {
   "attachments": {},
   "cell_type": "markdown",
   "metadata": {},
   "source": [
    "Analisando a expectativa de vida ao longo dos anos."
   ]
  },
  {
   "cell_type": "code",
   "execution_count": null,
   "metadata": {},
   "outputs": [],
   "source": [
    "#gráfico de expectativa de vida ao longo dos anos\n",
    "iraq = dataset[dataset['country'] == 'Iraq']\n",
    "iraq = iraq.sort_values(by='year')\n",
    "iraq[['year', 'life_expectancy']]\n",
    "plt.figure(figsize=(10, 5))\n",
    "plt.xticks(np.arange(2000, 2016, 1.0))\n",
    "plt.title('Expectativa de vida no Iraque ao longo dos anos')\n",
    "plt.plot(iraq['year'], iraq['life_expectancy'], color = 'green')"
   ]
  },
  {
   "attachments": {},
   "cell_type": "markdown",
   "metadata": {},
   "source": [
    "Vemos a partir do gráfico que de 2000 a 2007 houve uma queda na expectativa de vida, mas não muito alta (aproximadamente 1 ano). Com a guerra chegando ao fim, a expectativa de vida voltou a subir, indicando que provavelmente a queda anterior foi devido à guerra."
   ]
  },
  {
   "attachments": {},
   "cell_type": "markdown",
   "metadata": {},
   "source": [
    " A seguir analisaremos as métricas relacionadas à mortalidade nesse período."
   ]
  },
  {
   "cell_type": "code",
   "execution_count": null,
   "metadata": {},
   "outputs": [],
   "source": [
    "#mortalidade infantil ao longo dos anos\n",
    "plt.figure(figsize=(10, 5))\n",
    "plt.xticks(np.arange(2000, 2016, 1.0))\n",
    "plt.title('Mortalidade infantil no Iraque ao longo dos anos')\n",
    "plt.plot(iraq['year'], iraq['infant_deaths'], color = 'green')\n"
   ]
  },
  {
   "attachments": {},
   "cell_type": "markdown",
   "metadata": {},
   "source": [
    "É observável que não houve um aumento de mortes infantis no período observado, muito provavelmente por não se tratar de uma guerra civil, como foi o caso da Síria."
   ]
  },
  {
   "cell_type": "code",
   "execution_count": null,
   "metadata": {},
   "outputs": [],
   "source": [
    "#mortalidade adulta ao longo dos anos\n",
    "plt.figure(figsize=(10, 5))\n",
    "plt.xticks(np.arange(2000, 2016, 1.0))\n",
    "plt.title('Mortalidade adulta no Iraque ao longo dos anos')\n",
    "plt.plot(iraq['year'], iraq['adult_mortality'], color = 'green')\n"
   ]
  },
  {
   "attachments": {},
   "cell_type": "markdown",
   "metadata": {},
   "source": [
    "14 de Agosto de 2007 ocorreu o ataque mais mortífero desde o início da guerra. Mais de 500 civis foram mortos numa série de ataques bombistas suicidas coordenados no norte do Iraque em Qahtaniya. Mais de 100 casas e lojas foram destruídas nas explosões."
   ]
  },
  {
   "attachments": {},
   "cell_type": "markdown",
   "metadata": {},
   "source": [
    "O formato desse gráfico, juntamente com o texto acima, nos faz deduzir que 2007 foi o ano mais intenso da guerra.\n",
    "A diferença, no entanto, foi de aproximadamente 30 pessoas (a cada 1000), o que pode parecer não tão grande, mas devemos levar em conta que o número mínimo que temos de mortes já é bem alto. \n",
    "Além disso, é possível observar que, a partir de 2003, a inclinação da reta aumentou, alinhando com o início da guerra."
   ]
  },
  {
   "attachments": {},
   "cell_type": "markdown",
   "metadata": {},
   "source": [
    "Agora analisaremos como a guerra afetou a educação nos dois países."
   ]
  },
  {
   "cell_type": "code",
   "execution_count": null,
   "metadata": {},
   "outputs": [],
   "source": [
    "# grafico de schooling ao longo dos anos para a síria e o iraque\n",
    "plt.figure(figsize=(10, 5))\n",
    "plt.xticks(np.arange(2000, 2016, 1.0))\n",
    "plt.title('Escolaridade na Síria e no Iraque ao longo dos anos')\n",
    "plt.plot(syria['year'], syria['schooling'])\n",
    "plt.plot(iraq['year'], iraq['schooling'], color = 'green')\n",
    "plt.legend(['Síria', 'Iraque'])"
   ]
  },
  {
   "attachments": {},
   "cell_type": "markdown",
   "metadata": {},
   "source": [
    "Comparando a taxa de escolaridade entre os dois países, vemos que a Síria, até 2010, tinha uma taxa de crescimento maior que a do Iraque, mas a partir de 2010, a taxa de crescimento da Síria caiu drasticamente, enquanto a do Iraque continuou a crescer. Isso pode ser explicado pelo fato de que a guerra civil na Síria começou em 2011, enquanto a Guerra do Iraque terminou em 2011. Além disso, a guerra civil na Síria pode ter afetado a educação no país, enquanto a Guerra do Iraque não afetou a educação no Iraque, muito provavelmente por não se tratar de uma guerra civil."
   ]
  },
  {
   "attachments": {},
   "cell_type": "markdown",
   "metadata": {},
   "source": [
    "Analiseremos agora como a guerra afetou a economia dos dois países."
   ]
  },
  {
   "cell_type": "code",
   "execution_count": null,
   "metadata": {},
   "outputs": [],
   "source": [
    "#grafico com GPD per capita ao longo dos anos iraque e siria e media  mundial  \n",
    "plt.figure(figsize=(10, 5))\n",
    "plt.xticks(np.arange(2000, 2016, 1.0))\n",
    "plt.title('GDP per capita Síria e no Iraque ao longo dos anos')\n",
    "plt.plot(syria['year'], syria['gdp_per_capita'])\n",
    "plt.plot(iraq['year'], iraq['gdp_per_capita'], color = 'green')\n",
    "plt.legend(['Síria', 'Iraque'])\n"
   ]
  },
  {
   "attachments": {},
   "cell_type": "markdown",
   "metadata": {},
   "source": [
    "IRAQUE: É possível observar uma enorme queda no PIB per capita em 2003, ano da invasão estadunidense que gerou o início da guerra, de mais de 1000 dólares. Em 2004 o PIB já havia se recuperado consideravelmente, mas só voltou ao patamar de 2002 em 2008. A partir de 2011, ano em que a Guerra do Iraque terminou, o PIB per capita começou a subir mais rapidamente. Por fim é possível observar que a diferença de 2000 à 2011 (ano de início e fim da guerra), não parece ser muito expressiva, mas representa a falta de crescimento na economia por 11 anos.\n",
    "\n",
    "SÍRIA: É possível observar uma queda no PIB per capita em 2011, ano de início da guerra. A partir de 2013, houve uma estagnação, alinhada com o ano em que a mortalidade infantil e adulta começaram a cair. Isso pode indicar que de 2011 a 2013 a guerra estava em seu auge, e a partir de 2013 os impactos da guerra começaram a diminuir. Diferentemente do Iraque, não houve um crecimento no PIB per capita após a queda, indicando que a guerra afetou mais intensamente a economia da Síria."
   ]
  },
  {
   "attachments": {},
   "cell_type": "markdown",
   "metadata": {},
   "source": [
    "Analisando numericamente o PIB do Iraque, complementando a análise acima."
   ]
  },
  {
   "cell_type": "code",
   "execution_count": null,
   "metadata": {},
   "outputs": [],
   "source": [
    "# diferenca de GDP per capita do iraque de 2002 e 2003\n",
    "iraq[iraq['year'] == 2003]['gdp_per_capita'].values[0] - iraq[iraq['year'] == 2002]['gdp_per_capita'].values[0]\n",
    "print('Diferença de GDP per capita do Iraque de 2002 a 2003: ', iraq[iraq['year'] == 2003]['gdp_per_capita'].values[0] - iraq[iraq['year'] == 2002]['gdp_per_capita'].values[0])\n",
    "\n",
    "\n",
    "# diferenca de GDP per capita do iraque de 2003 e 2004\n",
    "iraq[iraq['year'] == 2004]['gdp_per_capita'].values[0] - iraq[iraq['year'] == 2003]['gdp_per_capita'].values[0]\n",
    "print('Diferença de GDP per capita do Iraque de 2003 a 2004: ', iraq[iraq['year'] == 2004]['gdp_per_capita'].values[0] - iraq[iraq['year'] == 2003]['gdp_per_capita'].values[0])\n",
    "\n",
    "# diferenca de GDP per capita do iraque de 2002 e 2004\n",
    "iraq[iraq['year'] == 2004]['gdp_per_capita'].values[0] - iraq[iraq['year'] == 2002]['gdp_per_capita'].values[0]\n",
    "print('Diferença de GDP per capita do Iraque de 2002 a 2004: ', iraq[iraq['year'] == 2004]['gdp_per_capita'].values[0] - iraq[iraq['year'] == 2002]['gdp_per_capita'].values[0])\n",
    "\n",
    "#diferenca de GDP per capita do iraque de 2002 e 2008\n",
    "iraq[iraq['year'] == 2008]['gdp_per_capita'].values[0] - iraq[iraq['year'] == 2002]['gdp_per_capita'].values[0]\n",
    "print('Diferença de GDP per capita do Iraque de 2002 a 2008: ', iraq[iraq['year'] == 2008]['gdp_per_capita'].values[0] - iraq[iraq['year'] == 2002]['gdp_per_capita'].values[0])\n",
    "\n",
    "# diferenca de GDP per capita do iraque de 2000 e 2011\n",
    "iraq[iraq['year'] == 2011]['gdp_per_capita'].values[0] - iraq[iraq['year'] == 2000]['gdp_per_capita'].values[0]\n",
    "print('Diferença de GDP per capita do Iraque de 2000 a 2011: ', iraq[iraq['year'] == 2011]['gdp_per_capita'].values[0] - iraq[iraq['year'] == 2000]['gdp_per_capita'].values[0])\n"
   ]
  },
  {
   "attachments": {},
   "cell_type": "markdown",
   "metadata": {},
   "source": [
    "Até então, com os dados observados, tudo parece indicar que a guerra da Síria foi mais devastadora que a do Iraque, em vários aspectos. Analiseremos a população dos dois países agora."
   ]
  },
  {
   "cell_type": "code",
   "execution_count": null,
   "metadata": {},
   "outputs": [],
   "source": [
    "#grafico de populacao ao longo dos anos para a síria e o iraque\n",
    "plt.figure(figsize=(10, 5))\n",
    "plt.xticks(np.arange(2000, 2016, 1.0))\n",
    "plt.title('População Síria e no Iraque ao longo dos anos')\n",
    "plt.plot(syria['year'], syria['population_mln'])\n",
    "plt.plot(iraq['year'], iraq['population_mln'], color = 'green')\n",
    "plt.legend(['Síria', 'Iraque'])"
   ]
  },
  {
   "attachments": {},
   "cell_type": "markdown",
   "metadata": {},
   "source": [
    "Mais uma vez, a Síria parece ter sido mais afetada pela guerra que o Iraque, com a população diminuindo a partir de 2010, se alinhando com o início da guerra civil. No Iraque, a população continuou a crescer, mesmo durante a guerra. A inclinação da reta do Iraque, a partir de 2010, se tornou mais acentuada, indicando que a população cresceu mais rápido a partir de 2010. Um dos fatores que pode ter contribuído para isso é o fato de que a guerra acabou em 2011. Agora compararemos esse crescimento com a média mundial."
   ]
  },
  {
   "cell_type": "code",
   "execution_count": null,
   "metadata": {},
   "outputs": [],
   "source": [
    "\n",
    "media_populacao = dataset.groupby('year')['population_mln'].mean()\n",
    "\n",
    "plt.figure(figsize=(10, 5))\n",
    "plt.xticks(np.arange(2000, 2016, 1.0))\n",
    "plt.title('População Síria e no Iraque ao longo dos anos, comparado com a média mundial')\n",
    "plt.plot(syria['year'], syria['population_mln'])\n",
    "plt.plot(iraq['year'], iraq['population_mln'], color = 'green')\n",
    "plt.plot(media_populacao, color = 'red')\n",
    "plt.legend(['Síria', 'Iraque', 'Média mundial'])"
   ]
  },
  {
   "attachments": {},
   "cell_type": "markdown",
   "metadata": {},
   "source": [
    "A partir desse gráfico, é possível concluir que a população do Iraque teve um crescimento bem expressivo desde 2010, comparando com a média mundial.\n",
    "\n",
    "Após todas as análises, podemos concluir que o Iraque se recompos bem após a guerra, e que, comparado com a Síria, a guerra afetou menos o país, mas ainda assim houveram repercussões, principalmente no que tange a economia. "
   ]
  },
  {
   "attachments": {},
   "cell_type": "markdown",
   "metadata": {},
   "source": [
    "\n",
    "### ÁFRICA"
   ]
  },
  {
   "cell_type": "code",
   "execution_count": null,
   "metadata": {},
   "outputs": [],
   "source": [
    "##população de cada region ao longo dos anos\n",
    "plt.figure(figsize=(10, 5))\n",
    "plt.xticks(np.arange(2000, 2016, 1.0))\n",
    "plt.title('População por região ao longo dos anos')\n",
    "#region unique\n",
    "region_unique = dataset['region'].unique()\n",
    "for region in region_unique:\n",
    "    region_pop = dataset[dataset['region'] == region]\n",
    "    region_pop = region_pop.groupby('year')['population_mln'].sum()\n",
    "    plt.plot(region_pop)\n",
    "plt.legend(region_unique)\n",
    "\n",
    "\n"
   ]
  },
  {
   "cell_type": "code",
   "execution_count": null,
   "metadata": {},
   "outputs": [],
   "source": [
    "## hiv africa ao longo dos anos media dos paises\n",
    "africa = dataset[dataset['region'] == 'Africa']\n",
    "africa = africa.groupby('year')['incidents_hiv'].mean()\n",
    "plt.figure(figsize=(10, 5))\n",
    "plt.xticks(np.arange(2000, 2016, 1.0))\n",
    "plt.title('Casos de HIV (a cada 1000 pessoas) na África ao longo dos anos')\n",
    "plt.plot(africa)"
   ]
  },
  {
   "cell_type": "code",
   "execution_count": null,
   "metadata": {},
   "outputs": [],
   "source": [
    "##hiv por regiao ao longo dos anos\n",
    "plt.figure(figsize=(10, 8))\n",
    "plt.xticks(np.arange(2000, 2016, 1.0))\n",
    "plt.title('Casos de HIV por região ao longo dos anos')\n",
    "#region unique\n",
    "region_unique = dataset['region'].unique()\n",
    "for region in region_unique:\n",
    "    region_hiv = dataset[dataset['region'] == region]\n",
    "    region_hiv = region_hiv.groupby('year')['incidents_hiv'].mean()\n",
    "    plt.plot(region_hiv)\n",
    "\n",
    "plt.legend(region_unique, loc='upper right')\n"
   ]
  },
  {
   "cell_type": "code",
   "execution_count": null,
   "metadata": {},
   "outputs": [],
   "source": [
    "#taxa de cobertura de vacinação em bebes de 1 ano de doenças na africa ao longo dos anos\n",
    "africa = dataset[dataset['region'] == 'Africa']\n",
    "measles = africa.groupby('year')['measles'].mean()\n",
    "polio = africa.groupby('year')['polio'].mean()\n",
    "diphtheria = africa.groupby('year')['diphtheria'].mean()\n",
    "plt.figure(figsize=(10, 5))\n",
    "plt.xticks(np.arange(2000, 2016, 1.0))\n",
    "plt.title('Taxa de vacinação de doenças na África ao longo dos anos')\n",
    "plt.plot(measles)\n",
    "plt.plot(polio)\n",
    "plt.plot(diphtheria)\n",
    "plt.legend(['Measles', 'Polio', 'Diphtheria'])"
   ]
  },
  {
   "cell_type": "code",
   "execution_count": null,
   "metadata": {},
   "outputs": [],
   "source": [
    "# tres graficos, um pra measles um pra polio e um pra diphtheria, com a media de cada doença por ano no mundo, sem a africa e na africa\n",
    "\n",
    "resto_do_mundo = dataset[dataset['region'] != 'Africa']\n",
    "measles = resto_do_mundo.groupby('year')['measles'].mean()\n",
    "polio = resto_do_mundo.groupby('year')['polio'].mean()\n",
    "diphtheria = resto_do_mundo.groupby('year')['diphtheria'].mean()\n",
    "africa = dataset[dataset['region'] == 'Africa']\n",
    "africa_measles = africa.groupby('year')['measles'].mean()\n",
    "africa_polio = africa.groupby('year')['polio'].mean()\n",
    "africa_diphtheria = africa.groupby('year')['diphtheria'].mean()\n",
    "plt.figure(figsize=(10, 5))\n",
    "plt.xticks(np.arange(2000, 2016, 1.0))\n",
    "plt.title('Taxa de vacinação de doenças no mundo e na África ao longo dos anos')\n",
    "plt.plot(measles, color = 'purple')\n",
    "plt.plot(polio, color = 'orange')\n",
    "plt.plot(diphtheria, color = 'green')\n",
    "plt.plot(africa_measles, linestyle='dashed', color = 'purple')\n",
    "plt.plot(africa_polio, linestyle='dashed', color = 'orange')\n",
    "plt.plot(africa_diphtheria, linestyle='dashed', color = 'green')\n",
    "plt.legend(['Measles', 'Polio', 'Diphtheria', 'Measles Africa', 'Polio Africa', 'Diphtheria Africa'])"
   ]
  },
  {
   "attachments": {},
   "cell_type": "markdown",
   "metadata": {},
   "source": [
    "é possivel observar que a taxa de vacinação na africa é consideravelmente menor que a media mundial, porem, para Polio e Diphtheria, a taxa de o africana apresenta um aumento muito significativo, concluir!!! (pode ter influenciado na diminuicao da taxa de mortalidade?)"
   ]
  },
  {
   "cell_type": "code",
   "execution_count": null,
   "metadata": {},
   "outputs": [],
   "source": [
    "# mortalidade infantil africa ao longo dos anos media dos paises\n",
    "africa = dataset[dataset['region'] == 'Africa']\n",
    "africa = africa.groupby('year')['infant_deaths'].mean()\n",
    "plt.figure(figsize=(10, 5))\n",
    "plt.xticks(np.arange(2000, 2016, 1.0))\n",
    "plt.title('Mortalidade infantil na África ao longo dos anos')\n",
    "plt.plot(africa)"
   ]
  },
  {
   "cell_type": "code",
   "execution_count": null,
   "metadata": {},
   "outputs": [],
   "source": [
    "# mortalidade infantil mundial sem a africa uma linha para a africa\n",
    "resto_do_mundo = dataset[dataset['region'] != 'Africa']\n",
    "resto_do_mundo = resto_do_mundo.groupby('year')['infant_deaths'].mean()\n",
    "africa = dataset[dataset['region'] == 'Africa']\n",
    "africa = africa.groupby('year')['infant_deaths'].mean()\n",
    "plt.figure(figsize=(10, 5))\n",
    "plt.xticks(np.arange(2000, 2016, 1.0))\n",
    "plt.title('Mortalidade infantil no mundo e na África ao longo dos anos')\n",
    "plt.plot(resto_do_mundo)\n",
    "plt.plot(africa)\n",
    "plt.legend(['Resto do mundo', 'África'])"
   ]
  },
  {
   "attachments": {},
   "cell_type": "markdown",
   "metadata": {},
   "source": [
    "taxa de diminuicao africana muito maior que o resto do mundo, mas ainda numero de mortes extremamente maior "
   ]
  },
  {
   "attachments": {},
   "cell_type": "markdown",
   "metadata": {},
   "source": [
    "interligando com a mortalidade infantil durante guerras\n"
   ]
  },
  {
   "cell_type": "code",
   "execution_count": null,
   "metadata": {},
   "outputs": [],
   "source": [
    "#africa, siria e iraque, media de mortes infantis por ano\n",
    "africa = dataset[dataset['region'] == 'Africa']\n",
    "africa = africa.groupby('year')['infant_deaths'].mean()\n",
    "syria = dataset[dataset['country'] == 'Syrian Arab Republic']\n",
    "syria = syria.groupby('year')['infant_deaths'].mean()\n",
    "iraq = dataset[dataset['country'] == 'Iraq']\n",
    "iraq = iraq.groupby('year')['infant_deaths'].mean()\n",
    "plt.figure(figsize=(10, 5))\n",
    "plt.xticks(np.arange(2000, 2016, 1.0))\n",
    "plt.title('Mortalidade infantil na África, Síria e Iraque ao longo dos anos')\n",
    "plt.plot(africa)\n",
    "plt.plot(syria)\n",
    "plt.plot(iraq)"
   ]
  },
  {
   "attachments": {},
   "cell_type": "markdown",
   "metadata": {},
   "source": [
    "# Regressão Linear Simples"
   ]
  },
  {
   "cell_type": "code",
   "execution_count": null,
   "metadata": {},
   "outputs": [],
   "source": [
    "regions = dataset['region'].unique()\n",
    "\n",
    "for region in regions:\n",
    "    region_data = dataset[dataset['region'] == region]\n",
    "    for year in range(2000, 2016):\n",
    "        region_data.loc[region_data['year'] == year, 'life_expectancy'] = region_data[region_data['year'] == year]['life_expectancy'].mean()\n",
    "    # um grafico do lado do\n",
    "    sns.regplot(x='year', y='life_expectancy', data=region_data, n_boot=10000,\n",
    "                line_kws={'color':'magenta', 'lw':2},\n",
    "                scatter_kws={'edgecolor':'k', 's':80, 'alpha':0.8})\n",
    "    # colocar regiao como legenda\n",
    "    plt.title('Expectativa de vida ao longo dos anos por região')\n",
    "    plt.xlabel('Ano')\n",
    "    plt.ylabel('Expectativa de vida')\n",
    "    \n",
    "plt.show()\n"
   ]
  },
  {
   "attachments": {},
   "cell_type": "markdown",
   "metadata": {},
   "source": [
    "Regressão simples: ano x expectativa de vida"
   ]
  },
  {
   "cell_type": "code",
   "execution_count": null,
   "metadata": {},
   "outputs": [],
   "source": [
    "# copia o dataset\n",
    "df = dataset.copy()\n",
    "\n",
    "for year in range(2000, 2016):\n",
    "    df.loc[df['year'] == year, 'life_expectancy'] = df[df['year'] == year]['life_expectancy'].mean() # media da expectativa de vida global por ano\n",
    "\n",
    "# calcula a regressao linear simples\n",
    "slope, intercept, r_value, p_value, std_err = stats.linregress(df['year'], df['life_expectancy'])\n",
    "\n",
    "# printa os resultados e plota o grafico\n",
    "print('R²: ', r_value**2)\n",
    "print('Beta: ', slope)\n",
    "print('Intercepto: ', intercept)\n",
    "#print('P-value: ', p_value) p_value do que??\n",
    "#print('Std error: ', std_err)\n",
    "print('')\n",
    "\n",
    "# comparar valor previsto da expectativa de vida em 2015 com o valor real\n",
    "print('Valor previsto da expectativa de vida em 2015: ', intercept + slope*2015)\n",
    "print('Valor real da expectativa de vida em 2015: ', df[df['year'] == 2015]['life_expectancy'].mean())\n",
    "\n",
    "plt.figure(figsize=(10, 5))\n",
    "plt.xticks(np.arange(2000, 2016, 1.0))\n",
    "plt.title('Expectativa de vida ao longo dos anos')\n",
    "plt.xlabel('Ano')\n",
    "plt.ylabel('Expectativa de vida')\n",
    "plt.plot(df['year'], df['life_expectancy'], 'o', label='Dados originais')\n",
    "plt.plot(df['year'], intercept + slope*df['year'], 'r', label='Linha de regressão')\n",
    "plt.legend()\n",
    "plt.show()"
   ]
  },
  {
   "attachments": {},
   "cell_type": "markdown",
   "metadata": {},
   "source": [
    "# Regressão Linear Múltipla"
   ]
  },
  {
   "attachments": {},
   "cell_type": "markdown",
   "metadata": {},
   "source": [
    "Ideia\n",
    "- Z-normalizar os dados\n",
    "- Calcular a correlação entre as variáveis e a expectativa de vida\n",
    "- Selecionar as variáveis com maior correlação\n",
    "- Fazer a regressão linear múltipla com as variáveis selecionadas\n"
   ]
  },
  {
   "attachments": {},
   "cell_type": "markdown",
   "metadata": {},
   "source": [
    "Antes de calcular a regressão múltipla, iremos tirar a média de cada atributo por ano, para termos apenas um valor por ano para cada atributo. Em seguida, calcularemos a correlação entre cada atributo e a expectativa de vida. Assim, poderemos selecionar os atributos com maior correlação para fazer a regressão linear múltipla."
   ]
  },
  {
   "cell_type": "code",
   "execution_count": null,
   "metadata": {},
   "outputs": [],
   "source": [
    "atributos = ['life_expectancy', 'infant_deaths', 'under_five_deaths', 'adult_mortality', 'alcohol_consumption', 'hepatitis_b', 'measles', 'bmi', 'polio', 'diphtheria', 'incidents_hiv', 'gdp_per_capita', 'population_mln', 'schooling']\n",
    "\n",
    "# tirar media de cada atributo por ano e colocar em um novo dataset\n",
    "df_reg = dataset.copy()\n",
    "\n",
    "for year in range(2000, 2016):\n",
    "    for atributo in atributos:\n",
    "        df_reg.loc[df_reg['year'] == year, atributo] = df_reg[df_reg['year'] == year][atributo].mean()\n",
    "\n",
    "# calcula a matriz de correlacao\n",
    "corr = df_reg[atributos].corr()\n",
    "\n",
    "# plota a matriz de correlacao da expectativa de vida\n",
    "plt.figure(figsize=(10, 5))\n",
    "plt.title('Matriz de correlação da expectativa de vida')\n",
    "sns.heatmap(corr[['life_expectancy']].sort_values(by='life_expectancy', ascending=False).head(10), vmin=-1, vmax=1, annot=True, cmap='BrBG')\n",
    "plt.show()\n",
    "\n"
   ]
  },
  {
   "attachments": {},
   "cell_type": "markdown",
   "metadata": {},
   "source": [
    "Analisando as correlações, concluímos que o consumo de álcool não está correlaciondo com a expectativa de vida, então podemos retirar essa variável da análise."
   ]
  },
  {
   "cell_type": "code",
   "execution_count": null,
   "metadata": {},
   "outputs": [],
   "source": [
    "# dropar o consumo de álcool (alcohol_consumption) do df_reg e atributos que não fazem sentido para a regressão linear múltipla\n",
    "df_reg = df_reg.drop(columns=['alcohol_consumption', 'country', 'region', 'year', 'developed'])"
   ]
  },
  {
   "cell_type": "code",
   "execution_count": null,
   "metadata": {},
   "outputs": [],
   "source": [
    "# z-normalizar os dados valorados\n",
    "df_reg = (df_reg - df_reg.mean()) / df_reg.std()\n",
    "df_reg.head()"
   ]
  },
  {
   "cell_type": "code",
   "execution_count": null,
   "metadata": {},
   "outputs": [],
   "source": [
    "# regressão linear múltipla para prever a expectativa de vida com os atributos  = ['infant_deaths', 'under_five_deaths', 'adult_mortality', 'alcohol_consumption', 'hepatitis_b', 'measles', 'bmi', 'polio', 'diphtheria', 'incidents_hiv', 'gdp_per_capita', 'population_mln', 'schooling']\n",
    "\n",
    "# define a função que calcula a jacobiana\n",
    "def jacobiana(theta, X, y):\n",
    "    return -2 * ((y - X @ theta) * X.T).mean(axis=1)\n",
    "\n",
    "# define a funcao de gradiente descendente\n",
    "def gd(theta, X, y, lambda_=0.01, tol=0.00001, max_iter=10000):\n",
    "    theta = theta.copy()\n",
    "    old_err_sq = np.inf\n",
    "    i = 0\n",
    "    while True:\n",
    "        # Computar as derivadas\n",
    "        grad = jacobiana(theta, X, y)\n",
    "        # Atualizar\n",
    "        theta_novo = theta - lambda_ * grad\n",
    "        \n",
    "        # Parar quando o erro convergir\n",
    "        err_sq = ((X.dot(theta) - y) ** 2).mean()\n",
    "        if np.abs(old_err_sq - err_sq) <= tol:\n",
    "            break\n",
    "        theta = theta_novo\n",
    "        old_err_sq = err_sq\n",
    "        i += 1\n",
    "        if i == max_iter:\n",
    "            break\n",
    "    return theta\n",
    "\n",
    "\n",
    "# define a funcao de regressao linear multipla\n",
    "def regressao_linear_multipla(X, y):\n",
    "    theta = np.ones(X.shape[1])\n",
    "\n",
    "    return gd(theta, X, y)\n",
    "\n",
    "\n",
    "# printa os resultados da regressao linear multipla\n",
    "y = df_reg['life_expectancy'].values\n",
    "X = df_reg.drop(columns=['life_expectancy']).values\n",
    " \n",
    "# adiciona o intercepto 1 ao X\n",
    "X = np.c_[np.ones(X.shape[0]), X]\n",
    "\n",
    "theta = regressao_linear_multipla(X, y)\n",
    "print('Theta: ', theta)\n",
    "\n",
    "# analisar se os resultados batem com o scikit learn\n",
    "from sklearn.linear_model import LinearRegression\n",
    "model = LinearRegression(fit_intercept=True)\n",
    "model.fit(X, y)\n",
    "\n",
    "LinearRegression()\n",
    "model.coef_\n"
   ]
  },
  {
   "cell_type": "code",
   "execution_count": null,
   "metadata": {},
   "outputs": [],
   "source": []
  }
 ],
 "metadata": {
  "kernelspec": {
   "display_name": "Python 3",
   "language": "python",
   "name": "python3"
  },
  "language_info": {
   "codemirror_mode": {
    "name": "ipython",
    "version": 3
   },
   "file_extension": ".py",
   "mimetype": "text/x-python",
   "name": "python",
   "nbconvert_exporter": "python",
   "pygments_lexer": "ipython3",
   "version": "3.11.4"
  },
  "orig_nbformat": 4
 },
 "nbformat": 4,
 "nbformat_minor": 2
}
